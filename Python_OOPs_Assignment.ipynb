{
  "nbformat": 4,
  "nbformat_minor": 0,
  "metadata": {
    "colab": {
      "provenance": []
    },
    "kernelspec": {
      "name": "python3",
      "display_name": "Python 3"
    },
    "language_info": {
      "name": "python"
    }
  },
  "cells": [
    {
      "cell_type": "markdown",
      "source": [
        "***OOPs Assignment -Questions and answers***"
      ],
      "metadata": {
        "id": "uHRILp09lZpE"
      }
    },
    {
      "cell_type": "markdown",
      "source": [
        "Q.1. What is Object-Oriented Programming (OOP)?\n",
        "  - Object-Oriented Programming (OOP) is a way of organizing computer programs around data (objects) rather than functions and logic (actions).\n",
        "  \n",
        "  Think of it like building with LEGOs:\n",
        "  * Each LEGO brick is an object (e.g., a car, a house, a person).\n",
        "  * Each brick has its own characteristics (color, size) and abilities (can roll, can open).\n",
        "  * You combine these independent bricks to build a bigger, more complex structure.\n",
        "  \n",
        "  This approach helps make programs more:\n",
        "  * Modular: Easily break down problems into smaller, manageable pieces.\n",
        "  * Reusable: Use the same \"bricks\" in different parts of your program or even in other programs.\n",
        "  * Maintainable: Easier to understand, debug, and update.\n",
        "\n",
        "\n",
        "Q.2. What is a class in OOP?\n",
        "  - A class in OOP is like a blueprint or a template for creating objects.\n",
        "  It defines the properties (what an object has, like color or size) and behaviors (what an object can do, like run or eat) that all objects of that type will share.\n",
        "  You don't directly work with the blueprint; you use it to build actual instances (objects).\n",
        "  For example:\n",
        "  * The blueprint for a \"Car\" (the class) defines that all cars have a color, a brand, and can drive or brake.\n",
        "  * An actual \"Red Toyota\" or a \"Blue Honda\" are specific instances (objects) created from that \"Car\" blueprint.\n",
        "\n",
        "Q.3. What is an object in OOP?\n",
        "  - In Object-Oriented Programming (OOP), an object is a self-contained unit that combines data (attributes/properties) and behavior (methods/functions) that operate on that data. It's essentially a real-world entity or a concept modeled within a program.\n",
        "\n",
        "Q.4. What is the difference between abstraction and encapsulation?\n",
        "  - Abstraction focuses on \"what\" an object does. It hides the complex internal details and shows only the essential features relevant to the user. Think of it like a remote control for a TV: you only see buttons for \"power,\" \"volume,\" and \"channel,\" not the intricate circuitry inside.\n",
        "  \n",
        "  Encapsulation focuses on \"how\" an object does it. It bundles data (attributes) and the methods (functions) that operate on that data into a single unit (like a class), and it controls access to that data, often by making it private. This protects the data from accidental or unauthorized external changes. Think of it like a pill capsule: it contains all the ingredients inside and protects them, and you interact with the pill as a whole, not its individual components.\n",
        "\n",
        "Q.5. What are dunder methods in Python?\n",
        "  - In Python, dunder methods (short for \"double underscore\" methods) are special methods that have names starting and ending with two underscores, like _init_ or _add_.\n",
        "  They are not meant to be called directly by you, but are automatically invoked by Python in specific situations, allowing your custom objects to behave like built-in types.\n",
        "  \n",
        "  For example:\n",
        "  * _init_ is called when you create a new object (like a constructor).\n",
        "  * _str_ is called when you use str() or print() on an object to get its string representation.\n",
        "  * _add_ is called when you use the + operator on objects.\n",
        "  They essentially define how your objects interact with Python's core language features and operators.\n",
        "\n",
        "Q.6. Explain the concept of inheritance in OOP.\n",
        "  - Inheritance in OOP is like a family tree for classes. It's a mechanism where a new class (called a child or derived class) can inherit (get) attributes and behaviors (methods) from an existing class (called a parent or base class).\n",
        "  \n",
        "  This allows you to reuse code, avoid duplication, and establish a \"is-a\" relationship (e.g., a \"Dog is an Animal\"). The child class can also add its own unique features or modify the inherited ones.\n",
        "\n",
        "Q.7. What is polymorphism in OOP?\n",
        "  - Polymorphism in OOP means \"many forms.\" It's the ability of an object or method to take on different forms or have multiple behaviors depending on the context.\n",
        "  \n",
        "  The most common way this manifests is when different classes can be treated as instances of a common superclass, and a method call on that superclass reference behaves differently based on the actual type of the object.\n",
        "  \n",
        "  Think of it like a \"play\" button: on an audio player, it plays music; on a video player, it plays a video. The \"play\" action takes a different \"form\" based on the object it's applied to.\n",
        "\n",
        "Q.8. How is encapsulation achieved in Python?\n",
        "  - In Python, encapsulation is achieved through:\n",
        "  1. Classes: Bundling data (attributes) and methods (functions that operate on that data) into a single unit. This is the primary way.\n",
        "  \n",
        "  2. Naming Conventions (not strict enforcement):\n",
        "  * Single underscore prefix (_variable_name): This is a convention indicating that a variable or method is \"protected\" and should be treated as internal to the class or its subclasses. It's a hint to other programmers, not a strict rule.\n",
        "  * Double underscore prefix (__variable_name): This triggers \"name mangling,\" which makes the variable or method harder (though not impossible) to access directly from outside the class. It's Python's way of making an attribute \"private\" by convention, but it can still be accessed if you know the mangled name.\n",
        "\n",
        "  3. Getter and Setter Methods: Providing public methods (getters and setters) to control how internal data is accessed and modified, rather than allowing direct access to the attributes. This allows you to add logic and validation around data manipulation.\n",
        "  \n",
        "  Unlike some other OOP languages, Python doesn't have strict \"private\" or \"protected\" keywords; it relies more on conventions and the interpreter's behavior.\n",
        "\n",
        "Q.9. What is a constructor in Python?\n",
        "  - A constructor in Python is a special method named _init_ (double underscore init double underscore).\n",
        "  \n",
        "  It's automatically called when you create a new object (instance) of a class. Its main purpose is to initialize the object's attributes (data) with initial values when the object is created.\n",
        "  \n",
        "  Think of it as the setup function for a new object.\n",
        "\n",
        "Q.10. What are class and static methods in Python?\n",
        "  - In Python, both class and static methods are defined within a class but have different ways of interacting with the class and its instances:\n",
        "\n",
        " 1. Class Method (@classmethod):\n",
        "   * Takes the class itself (cls) as its first argument (instead of self for an instance).\n",
        "   * Can access and modify class-level attributes (attributes shared by all instances of the class).\n",
        "   * Often used for \"factory methods\" to create instances in different ways or to operate on class-wide data.\n",
        "\n",
        " 2. Static Method (@staticmethod):\n",
        "   * Takes no special first argument (neither self nor cls).\n",
        "   * Cannot access or modify either instance-specific data (self) or class-level data (cls).\n",
        "   * Behaves like a regular function that simply happens to be grouped within a class for organizational purposes (e.g., utility functions that are logically related to the class but don't need its state).\n",
        "\n",
        "Q.11. What is method overloading in Python?\n",
        "  - Method overloading in Python means having multiple methods with the same name but different parameters within the same class.\n",
        "  Python doesn't support true method overloading like some other languages (e.g., Java, C++). If you define multiple methods with the same name, the last one defined will overwrite the previous ones.\n",
        "  \n",
        "  However, you can achieve similar functionality using:\n",
        "  * Default parameter values: Allowing a method to be called with varying numbers of arguments.\n",
        "  * Arbitrary arguments (*args and **kwargs): Handling a flexible number of positional and keyword arguments.\n",
        "\n",
        "Q.12. What is method overriding in OOP?\n",
        "  - Method overloading in Python means having multiple methods with the same name but different parameters within the same class.\n",
        "  \n",
        "  Python doesn't support true method overloading like some other languages (e.g., Java, C++). If you define multiple methods with the same name, the last one defined will overwrite the previous ones.\n",
        "  \n",
        "  However, you can achieve similar functionality using:\n",
        "  * Default parameter values: Allowing a method to be called with varying numbers of arguments.\n",
        "  * Arbitrary arguments (*args and **kwargs): Handling a flexible number of positional and keyword arguments.\n",
        "\n",
        "Q.13. What is a property decorator in Python?\n",
        "  -The @property decorator in Python allows you to treat a method as an attribute.\n",
        "  \n",
        "  In simpler terms, it lets you:\n",
        "  1. Access methods like attributes: Instead of calling object.get_value(), you can just use object.value.\n",
        "  \n",
        "  2. Add logic to attribute access/modification: You can define specific code to run when an attribute is read (getter), set (setter), or deleted (deleter). This helps with data validation, calculated values, and encapsulation without changing how the attribute is accessed from outside the class.\n",
        "\n",
        "Q.14. Why is polymorphism important in OOP?\n",
        "  - Polymorphism (meaning \"many forms\") in OOP is important because it allows you to:\n",
        "  \n",
        "  * Write flexible and reusable code: You can write general code that works with objects of different types, as long as they share a common interface (e.g., they all have a method with the same name). This means less duplicate code.\n",
        "  \n",
        "  * Improve code maintainability: When you need to add new types of objects, you can do so without extensively changing existing code, as long as the new objects conform to the shared interface.\n",
        "  \n",
        "  * Enhance extensibility: It makes it easier to extend your system with new functionalities or variations without breaking existing parts.\n",
        "  \n",
        "  * Create more abstract and readable designs: By focusing on what objects can do rather than what they are specifically, your code becomes cleaner and easier to understand.\n",
        "\n",
        "Q.15. What is an abstract class in Python?\n",
        "  - An abstract class in Python is like a blueprint or a template for other classes.\n",
        "  \n",
        "  Here's the key idea in simple terms:\n",
        "  \n",
        "  * Cannot be created directly: You cannot create an object (an \"instance\") directly from an abstract class. It's incomplete.\n",
        "  \n",
        "  * Defines mandatory methods: It often contains \"abstract methods\" which are declared but have no actual code implementation. These methods act as a contract, forcing any class that inherits from this abstract class to provide its own concrete implementation for them.\n",
        "  \n",
        "  * Ensures consistency: It helps enforce a specific structure and behavior across a group of related classes. For example, if you have an Animal abstract class with an abstract speak() method, every specific animal (like Dog, Cat) that inherits from Animal must define how it speaks.\n",
        "  \n",
        "  You create abstract classes in Python using the abc (Abstract Base Classes) module and the @abstractmethod decorator.\n",
        "\n",
        "Q.16. What are the advantages of OOP?\n",
        "  - The advantages of Object-Oriented Programming (OOP) can be summarized as:\n",
        "  \n",
        "  * Modularity: Breaks down complex problems into smaller, manageable, and independent \"objects,\" making code easier to understand, write, and debug.\n",
        "  \n",
        "  * Reusability: Allows you to reuse existing code (classes/objects) in new parts of your project or even different projects, saving time and effort.\n",
        "  \n",
        "  * Maintainability: Changes and bug fixes can often be isolated to specific objects, reducing the risk of introducing errors elsewhere in the system. This makes updating and evolving software much simpler.\n",
        "  \n",
        "  * Flexibility and Extensibility: New features and functionalities can be added more easily without heavily impacting existing code, allowing systems to grow and adapt.\n",
        "  \n",
        "  * Better Problem Solving: Models real-world entities and relationships, which can lead to more intuitive and organized solutions for complex problems.\n",
        "  \n",
        "  * Security (Data Hiding/Encapsulation): Protects sensitive data by controlling access to it, preventing unintended modifications and improving program reliability.\n",
        "\n",
        "Q.17. What is the difference between a class variable and an instance variable?\n",
        "  - 1. Class variable: Shared by all objects (instances) of a class. There's only one copy, and all instances access the same one.\n",
        "  \n",
        "  2 Instance variable: Unique to each individual object (instance). Each object gets its own separate copy.\n",
        "\n",
        "Q.18. What is multiple inheritance in Python?\n",
        "  - Multiple inheritance in Python means a class can inherit features (attributes and methods) from more than one parent class.\n",
        "  \n",
        "  Think of it like a child inheriting traits from both their mother and their father. The child class combines the characteristics of all its parent classes.\n",
        "\n",
        "Q.19. Explain the purpose of \"__str__' and '__repr__\" methods in Python.\n",
        "  - In Python:\n",
        "  \n",
        "  * _str_: Provides a human-readable string representation of an object, meant for users. It's what you typically see when you print() an object.\n",
        "  \n",
        "  * _repr: Provides an unambiguous (and often machine-readable) string representation of an object, meant for developers. It's useful for debugging and can often be used to recreate the object. If __str_ isn't defined, _repr_ is used as a fallback when print() is called.\n",
        "\n",
        "Q.20. What is the significance of the 'super()' function in Python?\n",
        "  - The super() function in Python allows a subclass to call methods and access attributes of its parent (superclass) or sibling classes.\n",
        "\n",
        "  Its main purposes are:\n",
        "  \n",
        "  * Calling parent constructors (_init_): Ensures the parent class's initialization logic is executed when a subclass object is created.\n",
        "  \n",
        "  * Accessing overridden methods: If a subclass overrides a method from its parent, super() lets you still call the parent's version of that method.\n",
        "  \n",
        "  * Working with multiple inheritance: Helps manage the order in which methods are called in complex inheritance hierarchies (Method Resolution Order - MRO).\n",
        "  \n",
        "  In essence, super() helps you extend and customize inherited behavior without duplicating code or explicitly naming parent classes.\n",
        "\n",
        "Q.21. What is the significance of the __del__ method in Python?\n",
        "  - The _del_ method in Python is a destructor.\n",
        "  \n",
        "  Its significance lies in providing a way to define cleanup actions that should happen just before an object is completely destroyed (garbage collected) by Python.\n",
        "  \n",
        "  Common uses include:\n",
        "  * Releasing external resources: Closing file handles, network connections, database connections, or other resources that an object might be holding.\n",
        "  \n",
        "  * Preventing resource leaks: Ensuring that resources are properly freed when an object is no longer needed, even if the program exits or an error occurs.\n",
        "  \n",
        "  However, it's important to note that _del_ is not guaranteed to be called immediately when an object's references drop to zero, and it might not be called at all if the program exits abruptly. For robust resource management, especially with external resources, context managers (with statements) are generally preferred over _del_.\n",
        "\n",
        "Q.22. What is the difference between @staticmethod and @classmethod in Python?\n",
        "  - In Python:\n",
        "  \n",
        "  * @classmethod: Takes the class itself as the first argument (cls). It can access and modify class-level attributes and is often used for \"factory methods\" (alternative ways to create instances of the class).\n",
        "  \n",
        "  * @staticmethod: Takes no special first argument (neither self nor cls). It behaves like a regular function but is logically grouped within the class. It cannot access or modify instance or class state, and is typically used for utility functions related to the class but independent of its specific data.\n",
        "\n",
        "Q.23. How does polymorphism work in Python with inheritance?\n",
        "  - Polymorphism with inheritance in Python means that objects of different classes can be treated as objects of a common base class, and when a method is called, the specific implementation in the actual object's class is executed.\n",
        "  \n",
        "  Imagine a \"Shape\" base class with a draw() method. You could then have \"Circle\" and \"Square\" classes that inherit from \"Shape\" and each have their own way of drawing.\n",
        "  \n",
        "  Polymorphism allows you to put a \"Circle\" object and a \"Square\" object into a list of \"Shape\" objects, and then iterate through the list calling draw() on each. Even though they are different types, Python knows which draw() method (the Circle's or the Square's) to call based on the object's actual type at runtime. This leads to very flexible and extensible code.\n",
        "\n",
        "Q.24. What is method chaining in Python OOP?\n",
        "  - Method chaining in Python OOP is a technique where you call multiple methods on the same object in a single line of code.\n",
        "  \n",
        "  It works by having each method return the object itself (return self) after performing its operation. This allows you to \"chain\" the next method call directly onto the result of the previous one, making your code more concise, readable, and often more fluent.\n",
        "  \n",
        "  Think of it like building a sentence: \"object.do_this().then_that().finally_this_other_thing().\"\n",
        "\n",
        "Q.25. What is the purpose of the __call__ method in Python?\n",
        "  - The __call__ method in Python allows you to make instances of a class callable like functions.\n",
        "  \n",
        "  If you define _call_ within your class, then when you create an object of that class, you can execute it directly by putting parentheses after its name (e.g., my_object()), just as you would with a regular function.\n",
        "  \n",
        "  This is useful for creating \"function-like\" objects that can also maintain their own internal state."
      ],
      "metadata": {
        "id": "EowdIDjrmUN4"
      }
    },
    {
      "cell_type": "markdown",
      "source": [
        "# ***Practical Questions***"
      ],
      "metadata": {
        "id": "sWE9WlFxuZpX"
      }
    },
    {
      "cell_type": "markdown",
      "source": [
        "Q.1. Create a parent class Animal with a method speak() that prints a generic message. Create a child class Dog\n",
        "that overrides the speak() method to print \"Bark!\"."
      ],
      "metadata": {
        "id": "eiI_mEJzupFB"
      }
    },
    {
      "cell_type": "code",
      "source": [
        "class Animal:\n",
        "    def speak(self):\n",
        "        print(\"The animal makes a sound.\")\n",
        "\n",
        "class Dog(Animal):\n",
        "    def speak(self):\n",
        "        print(\"Bark!\")\n",
        "\n",
        "# Example Usage:\n",
        "animal = Animal()\n",
        "animal.speak()\n",
        "\n",
        "dog = Dog()\n",
        "dog.speak()"
      ],
      "metadata": {
        "colab": {
          "base_uri": "https://localhost:8080/"
        },
        "id": "5MRRxrK3vP6T",
        "outputId": "256f1032-c866-422e-c88a-c1b5afaabb4c"
      },
      "execution_count": null,
      "outputs": [
        {
          "output_type": "stream",
          "name": "stdout",
          "text": [
            "The animal makes a sound.\n",
            "Bark!\n"
          ]
        }
      ]
    },
    {
      "cell_type": "markdown",
      "source": [
        "Q.2.  Write a program to create an abstract class Shape with a method area(). Derive classes Circle and Rectangle from it and implement the area() method in both."
      ],
      "metadata": {
        "id": "2mJVNQOXv4Dp"
      }
    },
    {
      "cell_type": "code",
      "source": [
        "from abc import ABC, abstractmethod\n",
        "import math\n",
        "\n",
        "class Shape(ABC):  # Shape is now an abstract class\n",
        "    @abstractmethod\n",
        "    def area(self):\n",
        "        pass  # Abstract method, must be implemented by subclasses\n",
        "\n",
        "class Circle(Shape):\n",
        "    def __init__(self, radius):\n",
        "        self.radius = radius\n",
        "\n",
        "    def area(self):\n",
        "        return math.pi * self.radius**2\n",
        "\n",
        "class Rectangle(Shape):\n",
        "    def __init__(self, width, height):\n",
        "        self.width = width\n",
        "        self.height = height\n",
        "\n",
        "    def area(self):\n",
        "        return self.width * self.height\n",
        "\n",
        "# Example Usage:\n",
        "# You cannot create an instance of an abstract class\n",
        "# shape = Shape() # This would raise a TypeError\n",
        "\n",
        "circle = Circle(5)\n",
        "print(f\"Circle area: {circle.area()}\")\n",
        "\n",
        "rectangle = Rectangle(4, 6)\n",
        "print(f\"Rectangle area: {rectangle.area()}\")"
      ],
      "metadata": {
        "colab": {
          "base_uri": "https://localhost:8080/"
        },
        "id": "XnwkOgnjw3Nz",
        "outputId": "ba290046-919b-409e-c493-8c27b3ad3c25"
      },
      "execution_count": null,
      "outputs": [
        {
          "output_type": "stream",
          "name": "stdout",
          "text": [
            "Circle area: 78.53981633974483\n",
            "Rectangle area: 24\n"
          ]
        }
      ]
    },
    {
      "cell_type": "markdown",
      "source": [
        "Q.3. Implement a multi-level inheritance scenario where a class Vehicle has an attribute type. Derive a class Car and further derive a class ElectricCar that adds a battery attribute."
      ],
      "metadata": {
        "id": "jzV9ibbmkWVL"
      }
    },
    {
      "cell_type": "code",
      "source": [
        "class Vehicle:\n",
        "    def __init__(self, vehicle_type):\n",
        "        self.type = vehicle_type\n",
        "        print(f\"Vehicle created: Type - {self.type}\")\n",
        "\n",
        "class Car(Vehicle):\n",
        "    def __init__(self, car_type, brand):\n",
        "        super().__init__(car_type)\n",
        "        self.brand = brand\n",
        "        print(f\"Car created: Brand - {self.brand}\")\n",
        "\n",
        "class ElectricCar(Car):\n",
        "    def __init__(self, car_type, brand, battery_capacity):\n",
        "      super().__init__(car_type, brand)\n",
        "      self.battery = battery_capacity\n",
        "      print(f\"Electric Car created: Battery - {self.battery} kWh\")\n",
        "\n",
        "# Scenario:\n",
        "my_electric_car = ElectricCar(\"Sedan\", \"Tesla\", 75)\n",
        "\n",
        "print(f\"\\nMy electric car is a {my_electric_car.type} {my_electric_car.brand} with a {my_electric_car.battery} kWh battery.\")"
      ],
      "metadata": {
        "colab": {
          "base_uri": "https://localhost:8080/"
        },
        "id": "eqIfD7Xnk2LI",
        "outputId": "e31fdbd7-ac0e-461f-84dc-8b882349a2b3"
      },
      "execution_count": 11,
      "outputs": [
        {
          "output_type": "stream",
          "name": "stdout",
          "text": [
            "Vehicle created: Type - Sedan\n",
            "Car created: Brand - Tesla\n",
            "Electric Car created: Battery - 75 kWh\n",
            "\n",
            "My electric car is a Sedan Tesla with a 75 kWh battery.\n"
          ]
        }
      ]
    },
    {
      "cell_type": "markdown",
      "source": [
        "Q.4. Demonstrate polymorphism by creating a base class Bird with a method flY(). Create two derived classes Sparrow and Penguin that override the fly() method."
      ],
      "metadata": {
        "id": "OXw51YzCnMoq"
      }
    },
    {
      "cell_type": "code",
      "source": [
        "class Bird:\n",
        "    def fly(self):\n",
        "        print(\"Birds generally fly.\")\n",
        "\n",
        "class Sparrow(Bird):\n",
        "    def fly(self):\n",
        "        print(\"Sparrow flies high in the sky.\")\n",
        "\n",
        "class Penguin(Bird):\n",
        "    def fly(self):\n",
        "        print(\"Penguin cannot fly, but it can swim!\")\n",
        "\n",
        "# Demonstrate polymorphism\n",
        "def make_it_fly(bird):\n",
        "    bird.fly()\n",
        "\n",
        "sparrow = Sparrow()\n",
        "penguin = Penguin()\n",
        "\n",
        "make_it_fly(sparrow)  # Calls Sparrow's fly()\n",
        "make_it_fly(penguin)  # Calls Penguin's fly()"
      ],
      "metadata": {
        "colab": {
          "base_uri": "https://localhost:8080/"
        },
        "id": "Xp96pGSSn3fm",
        "outputId": "a06a7756-705e-4d00-8c73-05363644dcd1"
      },
      "execution_count": 12,
      "outputs": [
        {
          "output_type": "stream",
          "name": "stdout",
          "text": [
            "Sparrow flies high in the sky.\n",
            "Penguin cannot fly, but it can swim!\n"
          ]
        }
      ]
    },
    {
      "cell_type": "markdown",
      "source": [
        "Q.5. Write a program to demonstrate encapsulation by creating a class BankAccount with private attributes balance and methods to deposit, withdraw, and check balance."
      ],
      "metadata": {
        "id": "bfTjTt9an6mo"
      }
    },
    {
      "cell_type": "code",
      "source": [
        "class BankAccount:\n",
        "    def __init__(self, initial_balance=0):\n",
        "        self.__balance = initial_balance # Private\n",
        "\n",
        "    def deposit(self, amount):\n",
        "        if amount > 0:\n",
        "            self.__balance += amount\n",
        "\n",
        "    def withdraw(self, amount):\n",
        "        if amount > 0 and self.__balance >= amount:\n",
        "            self.__balance -= amount\n",
        "\n",
        "    def get_balance(self): # Public method to access balance\n",
        "        return self.__balance\n",
        "\n",
        "my_account = BankAccount(500)\n",
        "my_account.deposit(200)\n",
        "my_account.withdraw(100)\n",
        "# print(my_account.__balance) # Error: __balance is private\n",
        "print(f\"Current balance: {my_account.get_balance()}\")"
      ],
      "metadata": {
        "colab": {
          "base_uri": "https://localhost:8080/"
        },
        "id": "YA5fStewn5up",
        "outputId": "99bb443c-cf29-487b-fcf4-5610ba6cb64b"
      },
      "execution_count": 13,
      "outputs": [
        {
          "output_type": "stream",
          "name": "stdout",
          "text": [
            "Current balance: 600\n"
          ]
        }
      ]
    },
    {
      "cell_type": "markdown",
      "source": [
        "Q.6. . Demonstrate runtime polymorphism using a method play() in a base class Instrument. Derive classes Guitar and Piano that implement their own version of play()."
      ],
      "metadata": {
        "id": "pMmI8OTtpLhy"
      }
    },
    {
      "cell_type": "code",
      "source": [
        "class Instrument:\n",
        "    def play(self):\n",
        "        print(\"Instrument is playing a sound.\")\n",
        "\n",
        "class Guitar(Instrument):\n",
        "    def play(self):\n",
        "        print(\"Guitar strums a melody.\")\n",
        "\n",
        "class Piano(Instrument):\n",
        "    def play(self):\n",
        "        print(\"Piano plays harmonious chords.\")\n",
        "\n",
        "# Runtime Polymorphism in action\n",
        "def make_instrument_play(instrument):\n",
        "    instrument.play()\n",
        "\n",
        "guitar = Guitar()\n",
        "piano = Piano()\n",
        "\n",
        "make_instrument_play(guitar) # Calls Guitar's play()\n",
        "make_instrument_play(piano)  # Calls Piano's play()"
      ],
      "metadata": {
        "colab": {
          "base_uri": "https://localhost:8080/"
        },
        "id": "sFjHyCHGpGjZ",
        "outputId": "de7cd92f-332c-4c21-c71d-9ca7c39fb681"
      },
      "execution_count": 14,
      "outputs": [
        {
          "output_type": "stream",
          "name": "stdout",
          "text": [
            "Guitar strums a melody.\n",
            "Piano plays harmonious chords.\n"
          ]
        }
      ]
    },
    {
      "cell_type": "markdown",
      "source": [
        "Q.7. Create a class MathOperations with a class method add_numbers() to add two numbers and a static method subtract_numbers() to subtract two numbers."
      ],
      "metadata": {
        "id": "V2QWiRY3p7R-"
      }
    },
    {
      "cell_type": "code",
      "source": [
        "class MathOperations:\n",
        "    @classmethod\n",
        "    def add_numbers(cls, num1, num2):\n",
        "        \"\"\"Adds two numbers.\"\"\"\n",
        "        return num1 + num2\n",
        "\n",
        "    @staticmethod\n",
        "    def subtract_numbers(num1, num2):\n",
        "        \"\"\"Subtracts two numbers.\"\"\"\n",
        "        return num1 - num2\n",
        "\n",
        "# Example usage:\n",
        "result_add = MathOperations.add_numbers(10, 5)\n",
        "print(f\"Addition: {result_add}\")\n",
        "\n",
        "result_subtract = MathOperations.subtract_numbers(10, 5)\n",
        "print(f\"Subtraction: {result_subtract}\")"
      ],
      "metadata": {
        "colab": {
          "base_uri": "https://localhost:8080/"
        },
        "id": "VP_fPvSJp5Ho",
        "outputId": "af7a757a-7c94-4be7-c1ce-504e659641b5"
      },
      "execution_count": 15,
      "outputs": [
        {
          "output_type": "stream",
          "name": "stdout",
          "text": [
            "Addition: 15\n",
            "Subtraction: 5\n"
          ]
        }
      ]
    },
    {
      "cell_type": "markdown",
      "source": [
        "Q.8. Implement a class Person with a class method to count the total number of persons created."
      ],
      "metadata": {
        "id": "l4WUDNuhrT7P"
      }
    },
    {
      "cell_type": "code",
      "source": [
        "class Person:\n",
        "    total_persons = 0  # Class variable to keep count\n",
        "\n",
        "    def __init__(self, name):\n",
        "        self.name = name\n",
        "        Person.total_persons += 1  # Increment count each time a Person object is created\n",
        "\n",
        "    @classmethod\n",
        "    def get_total_persons(cls):\n",
        "        \"\"\"Returns the total number of Person objects created.\"\"\"\n",
        "        return cls.total_persons\n",
        "\n",
        "# Example usage:\n",
        "person1 = Person(\"Swapnil\")\n",
        "person2 = Person(\"Shifa\")\n",
        "person3 = Person(\"Bhagyashri\")\n",
        "\n",
        "print(f\"Total number of persons created: {Person.get_total_persons()}\")"
      ],
      "metadata": {
        "colab": {
          "base_uri": "https://localhost:8080/"
        },
        "id": "1mmHJN7GrND8",
        "outputId": "bf7debf7-0daf-46ad-81f0-d5faeb0d7081"
      },
      "execution_count": 16,
      "outputs": [
        {
          "output_type": "stream",
          "name": "stdout",
          "text": [
            "Total number of persons created: 3\n"
          ]
        }
      ]
    },
    {
      "cell_type": "markdown",
      "source": [
        "Q.9. Write a class Fraction with attributes numerator and denominator. Override the str method to display the fraction as \"numerator/denominator\"."
      ],
      "metadata": {
        "id": "61paXdTHs03E"
      }
    },
    {
      "cell_type": "code",
      "source": [
        "class Fraction:\n",
        "    def __init__(self, numerator, denominator):\n",
        "        self.numerator = numerator\n",
        "        self.denominator = denominator\n",
        "\n",
        "    def __str__(self):\n",
        "        \"\"\"Returns the string representation of the fraction.\"\"\"\n",
        "        return f\"{self.numerator}/{self.denominator}\"\n",
        "\n",
        "# Example usage:\n",
        "fraction1 = Fraction(3, 4)\n",
        "print(fraction1)\n",
        "\n",
        "fraction2 = Fraction(7, 2)\n",
        "print(fraction2)"
      ],
      "metadata": {
        "colab": {
          "base_uri": "https://localhost:8080/"
        },
        "id": "Gnjugg9Wso-j",
        "outputId": "ef4ea729-7027-4a68-8f27-29034533ce7f"
      },
      "execution_count": 20,
      "outputs": [
        {
          "output_type": "stream",
          "name": "stdout",
          "text": [
            "3/4\n",
            "7/2\n"
          ]
        }
      ]
    },
    {
      "cell_type": "markdown",
      "source": [
        "Q.10. Demonstrate operator overloading by creating a class Vector and overriding the add method to add two vectors."
      ],
      "metadata": {
        "id": "nJESn8VwvURW"
      }
    },
    {
      "cell_type": "code",
      "source": [
        "class Vector:\n",
        "    def __init__(self, x, y):\n",
        "        self.x = x\n",
        "        self.y = y\n",
        "\n",
        "    def __add__(self, other):\n",
        "        \"\"\"\n",
        "        Overrides the '+' operator.\n",
        "        Adds two vectors component-wise.\n",
        "        \"\"\"\n",
        "        new_x = self.x + other.x\n",
        "        new_y = self.y + other.y\n",
        "        return Vector(new_x, new_y)\n",
        "\n",
        "    def __str__(self):\n",
        "        \"\"\"For easy printing of the vector.\"\"\"\n",
        "        return f\"Vector({self.x}, {self.y})\"\n",
        "\n",
        "# Create two vectors\n",
        "v1 = Vector(1, 2)\n",
        "v2 = Vector(3, 4)\n",
        "\n",
        "# Add them using the '+' operator (which now uses our _add_ method)\n",
        "v3 = v1 + v2\n",
        "\n",
        "# Print the result\n",
        "print(v3)"
      ],
      "metadata": {
        "colab": {
          "base_uri": "https://localhost:8080/"
        },
        "id": "65ijx8yZu8Sp",
        "outputId": "a020c2f6-781b-456b-ae62-f3c5894488e1"
      },
      "execution_count": 21,
      "outputs": [
        {
          "output_type": "stream",
          "name": "stdout",
          "text": [
            "Vector(4, 6)\n"
          ]
        }
      ]
    },
    {
      "cell_type": "markdown",
      "source": [
        "Q.11. . Create a class Person with attributes name and age. Add a method greet() that prints \"Hello, my name is {name} and I am {age} years old."
      ],
      "metadata": {
        "id": "ZtUsGuhnwqXR"
      }
    },
    {
      "cell_type": "code",
      "source": [
        "class Person:\n",
        "    def __init__(self, name, age):\n",
        "        self.name = name\n",
        "        self.age = age\n",
        "\n",
        "    def greet(self):\n",
        "        print(f\"Hello, my name is {self.name} and I am {self.age} years old.\")\n",
        "\n",
        "# Create a person:\n",
        "person1 = Person(\"Swapnil\", 26)\n",
        "\n",
        "# Make them greet:\n",
        "person1.greet()"
      ],
      "metadata": {
        "colab": {
          "base_uri": "https://localhost:8080/"
        },
        "id": "ZkYwEExLxKA9",
        "outputId": "38e91e59-2f16-4ba9-e00c-af05b177ad35"
      },
      "execution_count": 22,
      "outputs": [
        {
          "output_type": "stream",
          "name": "stdout",
          "text": [
            "Hello, my name is Swapnil and I am 26 years old.\n"
          ]
        }
      ]
    },
    {
      "cell_type": "markdown",
      "source": [
        "Q.12. . Implement a class Student with attributes name and grades. Create a method average_grade() to compute the average of the grades."
      ],
      "metadata": {
        "id": "G_S4R8CAyQfS"
      }
    },
    {
      "cell_type": "code",
      "source": [
        "class Student:\n",
        "    def __init__(self, name, grades):\n",
        "        self.name = name\n",
        "        self.grades = grades  # grades should be a list of numbers\n",
        "\n",
        "    def average_grade(self):\n",
        "        if not self.grades:  # Check if the list of grades is empty\n",
        "            return 0\n",
        "        return sum(self.grades) / len(self.grades)\n",
        "\n",
        "# Create a student:\n",
        "student1 = Student(\"Bhagyashree\", [85, 90, 78, 92])\n",
        "\n",
        "# Calculate their average grade:\n",
        "print(f\"{student1.name}'s average grade is: {student1.average_grade()}\")\n",
        "\n",
        "# Example with no grades\n",
        "student2 = Student(\"Shifa\", [65, 50, 58, 64])\n",
        "print(f\"{student2.name}'s average grade is: {student2.average_grade()}\")"
      ],
      "metadata": {
        "colab": {
          "base_uri": "https://localhost:8080/"
        },
        "id": "yI5fxRilyI1g",
        "outputId": "8abdd9a4-290a-4a08-f86f-c216373ae68b"
      },
      "execution_count": 25,
      "outputs": [
        {
          "output_type": "stream",
          "name": "stdout",
          "text": [
            "Bhagyashree's average grade is: 86.25\n",
            "Shifa's average grade is: 59.25\n"
          ]
        }
      ]
    },
    {
      "cell_type": "markdown",
      "source": [
        "Q.13. Create a class Rectangle with methods set_dimensions() to set the dimensions and area() to calculate the area."
      ],
      "metadata": {
        "id": "iR9m-3ZZ1SIp"
      }
    },
    {
      "cell_type": "code",
      "source": [
        "class Rectangle:\n",
        "    def __init__(self):\n",
        "        self.length = 0\n",
        "        self.width = 0\n",
        "\n",
        "    def set_dimensions(self, length, width):\n",
        "        self.length = length\n",
        "        self.width = width\n",
        "\n",
        "    def area(self):\n",
        "        return self.length * self.width\n",
        "\n",
        "# Create a rectangle:\n",
        "my_rectangle = Rectangle()\n",
        "\n",
        "# Set its size:\n",
        "my_rectangle.set_dimensions(5, 10)\n",
        "\n",
        "# Calculate its area:\n",
        "print(f\"The area of the rectangle is: {my_rectangle.area()}\")"
      ],
      "metadata": {
        "colab": {
          "base_uri": "https://localhost:8080/"
        },
        "id": "kuwnJMMpznOo",
        "outputId": "371548b6-8d1d-4a01-c211-67716b04efb2"
      },
      "execution_count": 27,
      "outputs": [
        {
          "output_type": "stream",
          "name": "stdout",
          "text": [
            "The area of the rectangle is: 50\n"
          ]
        }
      ]
    },
    {
      "cell_type": "markdown",
      "source": [
        "Q.14. Create a class Employee with a method calculate_salary() that computes the salary based on hours worked and hourly rate. Create a derived class Manager that adds a bonus to the salary."
      ],
      "metadata": {
        "id": "ahA3g4F82bMB"
      }
    },
    {
      "cell_type": "code",
      "source": [
        "class Employee:\n",
        "    def __init__(self, hours_worked, hourly_rate):\n",
        "        self.hours_worked = hours_worked\n",
        "        self.hourly_rate = hourly_rate\n",
        "\n",
        "    def calculate_salary(self):\n",
        "        \"\"\"Calculates basic salary for an employee.\"\"\"\n",
        "        return self.hours_worked * self.hourly_rate\n",
        "\n",
        "class Manager(Employee): # Manager inherits from Employee\n",
        "    def __init__(self, hours_worked, hourly_rate, bonus):\n",
        "        # Call the parent (Employee) class's initializer\n",
        "        super().__init__(hours_worked, hourly_rate)\n",
        "        self.bonus = bonus\n",
        "\n",
        "    def calculate_salary(self):\n",
        "        \"\"\"Calculates salary for a manager, including a bonus.\"\"\"\n",
        "        # Get the base salary from the Employee class's method\n",
        "        base_salary = super().calculate_salary()\n",
        "        return base_salary + self.bonus\n",
        "\n",
        "# --- Example Usage ---\n",
        "\n",
        "# Create an ordinary employee\n",
        "employee1 = Employee(40, 20) # 40 hours at $20/hour\n",
        "print(f\"Employee salary: ${employee1.calculate_salary()}\")\n",
        "\n",
        "# Create a manager\n",
        "manager1 = Manager(40, 25, 500)\n",
        "print(f\"Manager salary: ${manager1.calculate_salary()}\")"
      ],
      "metadata": {
        "colab": {
          "base_uri": "https://localhost:8080/"
        },
        "id": "qmfUvNqL2BKS",
        "outputId": "3d660c74-dca9-4e6a-c1a9-408a269229f8"
      },
      "execution_count": 30,
      "outputs": [
        {
          "output_type": "stream",
          "name": "stdout",
          "text": [
            "Employee salary: $800\n",
            "Manager salary: $1500\n"
          ]
        }
      ]
    },
    {
      "cell_type": "markdown",
      "source": [
        "Q.15. Create a class Product with attributes name, price, and quantity. Implement a method total_price() that calculates the total price of the product."
      ],
      "metadata": {
        "id": "Mi2fS5OO7ng5"
      }
    },
    {
      "cell_type": "code",
      "source": [
        "class Product:\n",
        "    def __init__(self, name, price, quantity):\n",
        "        self.name = name\n",
        "        self.price = price\n",
        "        self.quantity = quantity\n",
        "\n",
        "    def total_price(self):\n",
        "        \"\"\"Calculates price * quantity.\"\"\"\n",
        "        return self.price * self.quantity\n",
        "\n",
        "# Example:\n",
        "item = Product(\"Laptop\", 1200, 2)\n",
        "print(f\"Total cost of {item.quantity} {item.name}s: ${item.total_price()}\")"
      ],
      "metadata": {
        "colab": {
          "base_uri": "https://localhost:8080/"
        },
        "id": "z_ymPcXj531T",
        "outputId": "3cce6074-633f-4411-edc0-f711c6f6a41b"
      },
      "execution_count": 31,
      "outputs": [
        {
          "output_type": "stream",
          "name": "stdout",
          "text": [
            "Total cost of 2 Laptops: $2400\n"
          ]
        }
      ]
    },
    {
      "cell_type": "markdown",
      "source": [
        "Q.16. Create a class Animal with an abstract method sound(). Create two derived classes Cow and Sheep that implement the sound() method."
      ],
      "metadata": {
        "id": "ztrz3Er98hHL"
      }
    },
    {
      "cell_type": "code",
      "source": [
        "from abc import ABC, abstractmethod\n",
        "\n",
        "# The main idea for an Animal\n",
        "class Animal(ABC):\n",
        "    @abstractmethod # This means any Animal must have a 'sound' method\n",
        "    def sound(self):\n",
        "        pass\n",
        "\n",
        "# A Cow is an Animal\n",
        "class Cow(Animal):\n",
        "    def sound(self):\n",
        "        print(\"Moo!\")\n",
        "\n",
        "# A Sheep is an Animal\n",
        "class Sheep(Animal):\n",
        "    def sound(self):\n",
        "        print(\"Baa!\")\n",
        "\n",
        "# Try them out!\n",
        "my_cow = Cow()\n",
        "my_sheep = Sheep()\n",
        "\n",
        "my_cow.sound()\n",
        "my_sheep.sound()"
      ],
      "metadata": {
        "colab": {
          "base_uri": "https://localhost:8080/"
        },
        "id": "PAITRgO_9iMM",
        "outputId": "b2df4889-1d88-4b02-bd90-2a3d2c97d2a1"
      },
      "execution_count": 32,
      "outputs": [
        {
          "output_type": "stream",
          "name": "stdout",
          "text": [
            "Moo!\n",
            "Baa!\n"
          ]
        }
      ]
    },
    {
      "cell_type": "markdown",
      "source": [
        "Q.17. Create a class Book with attributes title, author, and year_published. Add a method get_book_info() that returns a formatted string with the book's details."
      ],
      "metadata": {
        "id": "jYlCWs5q-Ak0"
      }
    },
    {
      "cell_type": "code",
      "source": [
        "class Book:\n",
        "    def __init__(self, title, author, year_published):\n",
        "        self.title = title\n",
        "        self.author = author\n",
        "        self.year_published = year_published\n",
        "\n",
        "    def get_book_info(self):\n",
        "        \"\"\"Returns a string with the book's title, author, and year.\"\"\"\n",
        "        return f'\"{self.title}\" by {self.author}, published in {self.year_published}.'\n",
        "\n",
        "# Example:\n",
        "my_book = Book(\"Yayati\", \"V. S. Khandekar\", 1959)\n",
        "print(my_book.get_book_info())"
      ],
      "metadata": {
        "colab": {
          "base_uri": "https://localhost:8080/"
        },
        "id": "aeSRpDQg9us4",
        "outputId": "73231929-d38f-4ed0-b010-297a93a5f802"
      },
      "execution_count": 34,
      "outputs": [
        {
          "output_type": "stream",
          "name": "stdout",
          "text": [
            "\"Yayati\" by V. S. Khandekar, published in 1959.\n"
          ]
        }
      ]
    },
    {
      "cell_type": "markdown",
      "source": [
        "Q.18. Create a class House with attributes address and price. Create a derived class Mansion that adds an attribute number_of_rooms."
      ],
      "metadata": {
        "id": "dQmsr5qdBcnS"
      }
    },
    {
      "cell_type": "code",
      "source": [
        "class House:\n",
        "    def __init__(self, a, p):\n",
        "        self.address = a\n",
        "        self.price = p\n",
        "\n",
        "class Mansion(House):\n",
        "    def __init__(self, a, p, r):\n",
        "        super().__init__(a, p)\n",
        "        self.rooms = r\n",
        "\n",
        "h = House(\"Pune, India\", 5000000)\n",
        "m = Mansion(\"Delhi, India\", 20000000, 10)\n",
        "\n",
        "print(f\"House: {h.address} ₹{h.price}\")\n",
        "print(f\"Mansion: {m.address} ₹{m.price} ({m.rooms} rooms)\")"
      ],
      "metadata": {
        "colab": {
          "base_uri": "https://localhost:8080/"
        },
        "id": "xavfhipaBFLz",
        "outputId": "0f44935f-49dd-40bd-8271-898ed9ea3508"
      },
      "execution_count": 35,
      "outputs": [
        {
          "output_type": "stream",
          "name": "stdout",
          "text": [
            "House: Pune, India ₹5000000\n",
            "Mansion: Delhi, India ₹20000000 (10 rooms)\n"
          ]
        }
      ]
    }
  ]
}